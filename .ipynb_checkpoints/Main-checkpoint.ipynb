{
 "cells": [
  {
   "cell_type": "code",
   "execution_count": 155,
   "metadata": {},
   "outputs": [],
   "source": [
    "import nltk\n",
    "from nltk.stem import WordNetLemmatizer\n",
    "lemmatizer = WordNetLemmatizer()\n",
    "import pickle\n",
    "import numpy as np\n",
    "\n",
    "from keras.models import load_model\n",
    "import json\n",
    "import random\n",
    "import tensorflow as tf   \n",
    "import pandas as pd\n",
    "tf.get_logger().setLevel('ERROR')"
   ]
  },
  {
   "cell_type": "code",
   "execution_count": 156,
   "metadata": {},
   "outputs": [],
   "source": [
    "def clean_up_sentence(sentence):\n",
    "    sentence_words = nltk.word_tokenize(sentence)\n",
    "    sentence_words = [lemmatizer.lemmatize(word.lower()) for word in sentence_words]\n",
    "    return sentence_words"
   ]
  },
  {
   "cell_type": "code",
   "execution_count": 159,
   "metadata": {},
   "outputs": [],
   "source": [
    "def bow(sentence, words, show_details=True):\n",
    "    sentence_words = clean_up_sentence(sentence)\n",
    "    bag = [0]*len(words)\n",
    "    for s in sentence_words:\n",
    "        for i,w in enumerate(words):\n",
    "            if w == s:\n",
    "                bag[i] = 1\n",
    "                if show_details:\n",
    "                    print (\"found in bag: %s\" % w)\n",
    "    return(np.array(bag))"
   ]
  },
  {
   "cell_type": "code",
   "execution_count": 160,
   "metadata": {},
   "outputs": [],
   "source": [
    "def predict_class(sentence, model , words , classes):\n",
    "    p = bow(sentence, words,show_details=False)\n",
    "    res = model.predict(np.array([p]))[0]\n",
    "    ERROR_THRESHOLD = 0.1\n",
    "    results = [[i,r] for i,r in enumerate(res) if r>=ERROR_THRESHOLD]\n",
    "    results.sort(key=lambda x: x[1], reverse=True)\n",
    "    return_list = []\n",
    "    for r in results:\n",
    "        return_list.append({\"intent\": classes[r[0]], \"probability\": str(r[1])})\n",
    "#     print(return_list)\n",
    "    return return_list"
   ]
  },
  {
   "cell_type": "code",
   "execution_count": 161,
   "metadata": {},
   "outputs": [],
   "source": [
    "def getResponse(ints, intents_json):\n",
    "    tag = ints[0]['intent']\n",
    "    list_of_intents = intents_json['intents']\n",
    "    for i in list_of_intents:\n",
    "        if(i['tag']== tag):\n",
    "            result = random.choice(i['responses'])\n",
    "            break\n",
    "    return result"
   ]
  },
  {
   "cell_type": "code",
   "execution_count": 162,
   "metadata": {},
   "outputs": [],
   "source": [
    "def chatbot_response(msg):\n",
    "    ints = predict_class(msg, model)\n",
    "    res = getResponse(ints, intents)\n",
    "    return res"
   ]
  },
  {
   "cell_type": "code",
   "execution_count": 163,
   "metadata": {},
   "outputs": [],
   "source": [
    "def call_model(sentence , qtype):\n",
    "    no = qtype\n",
    "    model = load_model('models/model' + no + '.h5')\n",
    "    words = pickle.load(open('type' + no + '/words.pkl','rb'))\n",
    "    classes = pickle.load(open('type' + no + '/classes.pkl','rb'))\n",
    "    found_intent = predict_class(sentence , model , words , classes)[0]['intent']\n",
    "#     print(\"Intent is \" , found_intent)\n",
    "    return found_intent"
   ]
  },
  {
   "cell_type": "code",
   "execution_count": 164,
   "metadata": {},
   "outputs": [],
   "source": [
    "def main(question):\n",
    "#     print(\"Finding the type\")\n",
    "    model = load_model('models/model.h5')\n",
    "    words = pickle.load(open('main_model/words.pkl','rb'))\n",
    "    classes = pickle.load(open('main_model/classes.pkl','rb'))\n",
    "    qtype = predict_class(question , model , words , classes)[0]['intent']\n",
    "#     print(\"\\nQuestion type is\" , qtype , end='\\n\\n')\n",
    "    if qtype == 'type1':\n",
    "        it = call_model(question , '1')\n",
    "    elif qtype == 'type2':\n",
    "        it = call_model(question , '2')\n",
    "    elif qtype == 'type3':\n",
    "        it = call_model(question , '3')\n",
    "    return (qtype, it)"
   ]
  },
  {
   "cell_type": "code",
   "execution_count": 165,
   "metadata": {},
   "outputs": [
    {
     "data": {
      "text/plain": [
       "('type1', 'greeting')"
      ]
     },
     "execution_count": 165,
     "metadata": {},
     "output_type": "execute_result"
    }
   ],
   "source": [
    "main(\"Hello everyone\")"
   ]
  },
  {
   "cell_type": "code",
   "execution_count": 167,
   "metadata": {},
   "outputs": [],
   "source": [
    "def solve(lisp):\n",
    "    data = {}\n",
    "    data['question'] = lisp\n",
    "    data['intent'] = []\n",
    "    data['types'] = []\n",
    "    for question in lisp:\n",
    "        a = main(question)\n",
    "        data['intent'].append(a[1])\n",
    "        data['types'].append(a[0])\n",
    "    data = pd.DataFrame(data)\n",
    "    print(data)"
   ]
  },
  {
   "cell_type": "code",
   "execution_count": 168,
   "metadata": {},
   "outputs": [
    {
     "name": "stdout",
     "output_type": "stream",
     "text": [
      "                              question                         intent  types\n",
      "0                  campus of iit mandi                         campus  type2\n",
      "1            joining programming club   coding_criteria_participation  type3\n",
      "2                          how are you                       greeting  type1\n",
      "3  why is competetive programming hard               operating_system  type3\n",
      "4                          who are you                       creation  type1\n",
      "5                      who created you                       creation  type1\n"
     ]
    }
   ],
   "source": [
    "lisp = [\"campus of iit mandi\", \"joining programming club \",\"how are you\",\"why is competetive programming hard\", \"who are you\", \"who created you\"]\n",
    "solve(lisp)"
   ]
  },
  {
   "cell_type": "code",
   "execution_count": null,
   "metadata": {},
   "outputs": [],
   "source": []
  },
  {
   "cell_type": "code",
   "execution_count": null,
   "metadata": {},
   "outputs": [],
   "source": []
  }
 ],
 "metadata": {
  "kernelspec": {
   "display_name": "Python 3",
   "language": "python",
   "name": "python3"
  },
  "language_info": {
   "codemirror_mode": {
    "name": "ipython",
    "version": 3
   },
   "file_extension": ".py",
   "mimetype": "text/x-python",
   "name": "python",
   "nbconvert_exporter": "python",
   "pygments_lexer": "ipython3",
   "version": "3.8.5"
  }
 },
 "nbformat": 4,
 "nbformat_minor": 4
}
