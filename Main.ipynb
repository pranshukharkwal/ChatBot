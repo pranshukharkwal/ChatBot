{
 "cells": [
  {
   "cell_type": "code",
   "execution_count": 33,
   "metadata": {},
   "outputs": [],
   "source": [
    "import nltk\n",
    "from nltk.stem import WordNetLemmatizer\n",
    "lemmatizer = WordNetLemmatizer()\n",
    "import pickle\n",
    "import numpy as np\n",
    "import pyjokes\n",
    "from keras.models import load_model\n",
    "import json\n",
    "import random\n",
    "import tensorflow as tf   \n",
    "import pandas as pd\n",
    "tf.get_logger().setLevel('ERROR')\n",
    "import convert"
   ]
  },
  {
   "cell_type": "code",
   "execution_count": 34,
   "metadata": {},
   "outputs": [],
   "source": [
    "def clean_up_sentence(sentence):\n",
    "    sentence_words = nltk.word_tokenize(sentence)\n",
    "    sentence_words = [lemmatizer.lemmatize(word.lower()) for word in sentence_words]\n",
    "    return sentence_words"
   ]
  },
  {
   "cell_type": "code",
   "execution_count": 35,
   "metadata": {},
   "outputs": [],
   "source": [
    "def bow(sentence, words, show_details=True):\n",
    "    sentence_words = clean_up_sentence(sentence)\n",
    "    bag = [0]*len(words)\n",
    "    for s in sentence_words:\n",
    "        for i,w in enumerate(words):\n",
    "            if w == s:\n",
    "                bag[i] = 1\n",
    "                if show_details:\n",
    "                    print (\"found in bag: %s\" % w)\n",
    "    return(np.array(bag))"
   ]
  },
  {
   "cell_type": "code",
   "execution_count": 36,
   "metadata": {},
   "outputs": [],
   "source": [
    "def predict_class(sentence, model , words , classes):\n",
    "    p = bow(sentence, words,show_details=False)\n",
    "    res = model.predict(np.array([p]))[0]\n",
    "    ERROR_THRESHOLD = 0.1\n",
    "    results = [[i,r] for i,r in enumerate(res) if r>=ERROR_THRESHOLD]\n",
    "    results.sort(key=lambda x: x[1], reverse=True)\n",
    "    return_list = []\n",
    "    for r in results:\n",
    "        return_list.append({\"intent\": classes[r[0]], \"probability\": str(r[1])})\n",
    "#     print(return_list)\n",
    "    return return_list"
   ]
  },
  {
   "cell_type": "code",
   "execution_count": 48,
   "metadata": {},
   "outputs": [],
   "source": [
    "def getResponse(intent , qtype):\n",
    "    lisp = []\n",
    "    if qtype == 'type1':\n",
    "        data_file = open('database/intents1.json').read()\n",
    "        lisp = json.loads(data_file)[\"type1\"]\n",
    "    elif qtype == 'type2':\n",
    "        data_file = open('database/intents2.json').read()\n",
    "        lisp = json.loads(data_file)[\"type2\"]\n",
    "    elif qtype == 'type3':\n",
    "        data_file = open('database/intents3.json').read()\n",
    "        lisp = json.loads(data_file)[\"type3\"]\n",
    "        \n",
    "    for i in lisp:\n",
    "        if(i['tag']== intent):\n",
    "            result = random.choice(i['responses'])\n",
    "            break\n",
    "    return result"
   ]
  },
  {
   "cell_type": "code",
   "execution_count": 39,
   "metadata": {},
   "outputs": [],
   "source": [
    "def call_model(sentence , qtype):\n",
    "    no = qtype\n",
    "    model = load_model('models/model' + no + '.h5')\n",
    "    words = pickle.load(open('type' + no + '/words.pkl','rb'))\n",
    "    classes = pickle.load(open('type' + no + '/classes.pkl','rb'))\n",
    "    found_intent = predict_class(sentence , model , words , classes)[0]['intent']\n",
    "#     print(\"Intent is \" , found_intent)\n",
    "    return found_intent"
   ]
  },
  {
   "cell_type": "code",
   "execution_count": 40,
   "metadata": {},
   "outputs": [],
   "source": [
    "def main(question):\n",
    "#     print(\"Finding the type\")\n",
    "    model = load_model('models/model.h5')\n",
    "    words = pickle.load(open('main_model/words.pkl','rb'))\n",
    "    classes = pickle.load(open('main_model/classes.pkl','rb'))\n",
    "    qtype = predict_class(question , model , words , classes)[0]['intent']\n",
    "#     print(\"\\nQuestion type is\" , qtype , end='\\n\\n')\n",
    "    if qtype == 'type1':\n",
    "        it = call_model(question , '1')\n",
    "    elif qtype == 'type2':\n",
    "        it = call_model(question , '2')\n",
    "    elif qtype == 'type3':\n",
    "        it = call_model(question , '3')\n",
    "    return (qtype, it)"
   ]
  },
  {
   "cell_type": "code",
   "execution_count": 41,
   "metadata": {},
   "outputs": [
    {
     "data": {
      "text/plain": [
       "('type1', 'greeting')"
      ]
     },
     "execution_count": 41,
     "metadata": {},
     "output_type": "execute_result"
    }
   ],
   "source": [
    "main(\"how are you\")"
   ]
  },
  {
   "cell_type": "code",
   "execution_count": 60,
   "metadata": {},
   "outputs": [],
   "source": [
    "def solve(lisp):\n",
    "    data = {}\n",
    "    data['question'] = lisp\n",
    "    data['intent'] = []\n",
    "    data['types'] = []\n",
    "    for question in lisp:\n",
    "        print(question)\n",
    "        a = main(question)\n",
    "        data['intent'].append(a[1])\n",
    "        data['types'].append(a[0])\n",
    "        if a[1] == 'suggest_movie':\n",
    "            print('Response : Here is a movie suggestion' , convert.give_suggestion('movies'))\n",
    "        elif a[1] == 'suggest_song':\n",
    "            print('Response : Here is a song suggestion' , convert.give_suggestion('songs'))\n",
    "        elif a[1] == 'suggest_book':\n",
    "            print('Response : Here is a book suggestion' , convert.give_suggestion('books'))\n",
    "        elif a[1] == 'tell_joke':\n",
    "            print(\"Response : Here is a joke\" , pyjokes.get_joke('en'))\n",
    "        elif a[1] == 'get_info':\n",
    "            print(\"Response :\" , convert.fetch_wikipedia(question))\n",
    "        else:\n",
    "            typeq = a[0]\n",
    "            intentq = a[1]\n",
    "            print(\"Response :\" , getResponse(intentq , typeq))\n",
    "        print()\n",
    "    data = pd.DataFrame(data)\n",
    "    print(data)"
   ]
  },
  {
   "cell_type": "code",
   "execution_count": 56,
   "metadata": {},
   "outputs": [
    {
     "name": "stdout",
     "output_type": "stream",
     "text": [
      "campus of iit mandi\n",
      "Response : Campus of IIT Mandi is very beautiful having scenic beauty as cherry on the cake,also it is a 2nd gen IIT so it is equipped with all the modern facilities.\n",
      "\n",
      "joining programming club \n",
      "Response : KamandPrompt,the programming club of IIT Mandi is open for all students willing to learn coding and participate actively.\n",
      "You can join it by contacting the coordinators or the club members.\n",
      "There is no criteria for joining and no prerequisites\n",
      "\n",
      "how are you\n",
      "Response : Hello\n",
      "\n",
      "why is competetive programming hard\n",
      "Response : KamandPrompt,the programming club of IIT Mandi is open for all students willing to learn coding and participate actively.\n",
      "You can join it by contacting the coordinators or the club members.\n",
      "There is no criteria for joining and no prerequisites\n",
      "\n",
      "who are you\n",
      "Response : Team Prometheus from IIT Mandi :)\n",
      "\n",
      "who created you\n",
      "Response : I was made by Team Prometheus which is also my name :)\n",
      "\n",
      "                              question                         intent  types\n",
      "0                  campus of iit mandi                         campus  type2\n",
      "1            joining programming club   coding_criteria_participation  type3\n",
      "2                          how are you                       greeting  type1\n",
      "3  why is competetive programming hard  coding_criteria_participation  type3\n",
      "4                          who are you                       creation  type1\n",
      "5                      who created you                       creation  type1\n"
     ]
    }
   ],
   "source": [
    "lisp = [\"campus of iit mandi\", \"joining programming club \",\"how are you\",\"why is competetive programming hard\", \"who are you\", \"who created you\"]\n",
    "# lisp = [\"suggest me a song\" , \"suggest me a movie\" , \"tell me a joke\" , \"hello how are you\"]\n",
    "solve(lisp)"
   ]
  },
  {
   "cell_type": "code",
   "execution_count": 180,
   "metadata": {},
   "outputs": [
    {
     "name": "stdout",
     "output_type": "stream",
     "text": [
      "{'authors': ['Jaideva C. Goswami', ' Andrew K. Chan'], 'image': 'http://libgen.lc//covers/9000/0649d4c0dc548a91adbe1199865dbf9f-d.jpg', 'download': 'http://libgen.lc/ads.php?md5=0649d4c0dc548a91adbe1199865dbf9f', 'publisher': 'Wiley', 'year': '1999', 'pages': '319', 'language': 'English', 'size': '4 MB', 'name': 'Fundamentals of wavelets: theory, algorithms, and applications '}\n"
     ]
    }
   ],
   "source": [
    "print(convert.give_suggestion('books'))"
   ]
  },
  {
   "cell_type": "code",
   "execution_count": 57,
   "metadata": {},
   "outputs": [
    {
     "name": "stdout",
     "output_type": "stream",
     "text": [
      "Wait Wait... Don't Tell Me! is an hour-long weekly news radio panel show produced by WBEZ and National Public Radio (NPR) in Chicago, Illinois. On the program, panelists and contestants are quizzed in humorous ways about that week's news. It is distributed by NPR in the United States, internationally on NPR Worldwide and on the Internet via podcast, and typically broadcast on weekends by member stations. The show averages about 6 million weekly listeners on air and via podcast.\n"
     ]
    }
   ],
   "source": [
    "\n",
    "print(wikipedia.summary(\"tell me about wikipedia\"))"
   ]
  },
  {
   "cell_type": "code",
   "execution_count": 184,
   "metadata": {},
   "outputs": [
    {
     "data": {
      "text/plain": [
       "[\"Complaining about the lack of smoking shelters, the nicotine addicted Python programmers said there ought to be 'spaces for tabs'.\",\n",
       " 'Ubuntu users are apt to get this joke.',\n",
       " 'Obfuscated Reality Mappers (ORMs) can be useful database tools.',\n",
       " 'Asked to explain Unicode during an interview, Geoff went into detail about his final year university project. He was not hired.',\n",
       " \"Triumphantly, Beth removed Python 2.7 from her server in 2030. 'Finally!' she said with glee, only to see the announcement for Python 4.4.\",\n",
       " \"An SQL query goes into a bar, walks up to two tables and asks, 'Can I join you?'\",\n",
       " 'When your hammer is C++, everything begins to look like a thumb.',\n",
       " 'If you put a million monkeys at a million keyboards, one of them will eventually write a Java program. The rest of them will write Perl.',\n",
       " 'To understand recursion you must first understand recursion.',\n",
       " \"I suggested holding a 'Python Object Oriented Programming Seminar', but the acronym was unpopular.\",\n",
       " \"'Knock, knock.' 'Who's there?' ... very long pause ... 'Java.'\",\n",
       " \"How many programmers does it take to change a lightbulb? None, that's a hardware problem.\",\n",
       " \"What's the object-oriented way to become wealthy? Inheritance.\",\n",
       " \"Why don't jokes work in octal? Because 7 10 11.\",\n",
       " 'How many programmers does it take to change a lightbulb? None, they just make darkness a standard.',\n",
       " \"Two bytes meet. The first byte asks, 'Are you ill?' The second byte replies, 'No, just feeling a bit off.'\",\n",
       " \"Two threads walk into a bar. The barkeeper looks up and yells, 'Hey, I want don't any conditions race like time last!'\",\n",
       " \"Old C programmers don't die, they're just cast into void.\",\n",
       " \"Eight bytes walk into a bar. The bartender asks, 'Can I get you anything?' 'Yeah,' replies the bytes. 'Make us a double.'\",\n",
       " \"Why did the programmer quit his job? Because he didn't get arrays.\",\n",
       " \"Why do Java programmers have to wear glasses? Because they don't see sharp.\",\n",
       " 'Software developers like to solve problems. If there are no problems handily available, they will create their own.',\n",
       " \".NET was named .NET so that it wouldn't show up in a Unix directory listing.\",\n",
       " 'Hardware: The part of a computer that you can kick.',\n",
       " \"A programmer was found dead in the shower. Next to their body was a bottle of shampoo with the instructions 'Lather, Rinse and Repeat'.\",\n",
       " 'Optimist: The glass is half full. Pessimist: The glass is half empty. Programmer: The glass is twice as large as necessary.',\n",
       " 'In C we had to code our own bugs. In C++ we can inherit them.',\n",
       " 'How come there is no obfuscated Perl contest? Because everyone would win.',\n",
       " \"If you play a Windows CD backwards, you'll hear satanic chanting ... worse still, if you play it forwards, it installs Windows.\",\n",
       " 'How many programmers does it take to kill a cockroach? Two: one holds, the other installs Windows on it.',\n",
       " 'What do you call a programmer from Finland? Nerdic.',\n",
       " \"What did the Java code say to the C code? A: You've got no class.\",\n",
       " \"Why did Microsoft name their search engine BING? Because It's Not Google.\",\n",
       " \"Pirates go 'arg!', computer pirates go 'argv!'\",\n",
       " 'Software salesmen and used-car salesmen differ in that the latter know when they are lying.',\n",
       " \"Child: Dad, why does the sun rise in the east and set in the west? Dad: Son, it's working, don't touch it.\",\n",
       " 'Why do programmers confuse Halloween with Christmas? Because OCT 31 == DEC 25.',\n",
       " 'How many Prolog programmers does it take to change a lightbulb? false.',\n",
       " 'Real programmers can write assembly code in any language.',\n",
       " 'Waiter: Would you like coffee or tea? Programmer: Yes.',\n",
       " 'What do you get when you cross a cat and a dog? Cat dog sin theta.',\n",
       " \"If loving you is ROM I don't wanna read write.\",\n",
       " 'A programmer walks into a foo...',\n",
       " \"A programmer walks into a bar and orders 1.38 root beers. The bartender informs her it's a root beer float. She says 'Make it a double!'\",\n",
       " \"What is Benoit B. Mandelbrot's middle name? Benoit B. Mandelbrot.\",\n",
       " \"Why are you always smiling? That's just my... regular expression.\",\n",
       " 'ASCII stupid question, get a stupid ANSI.',\n",
       " \"A programmer had a problem. He thought to himself, 'I know, I'll solve it with threads!'. has Now problems. two he\",\n",
       " 'Why do sin and tan work? Just cos.',\n",
       " 'Java: Write once, run away.',\n",
       " 'I would tell you a joke about UDP, but you would never get it.',\n",
       " 'A QA engineer walks into a bar. Runs into a bar. Crawls into a bar. Dances into a bar. Tiptoes into a bar. Rams a bar. Jumps into a bar.',\n",
       " \"My friend's in a band called '1023 Megabytes'... They haven't got a gig yet!\",\n",
       " \"I had a problem so I thought I'd use Java. Now I have a ProblemFactory.\",\n",
       " 'QA Engineer walks into a bar. Orders a beer. Orders 0 beers. Orders 999999999 beers. Orders a lizard. Orders -1 beers. Orders a sfdeljknesv.',\n",
       " 'A product manager walks into a bar, asks for drink. Bartender says no, but will consider adding later.',\n",
       " 'How do you generate a random string? Put a first year Computer Science student in Vim and ask them to save and exit.',\n",
       " \"I've been using Vim for a long time now, mainly because I can't figure out how to exit.\",\n",
       " \"How do you know whether a person is a Vim user? Don't worry, they'll tell you.\",\n",
       " \"Waiter: He's choking! Is anyone a doctor? Programmer: I'm a Vim user.\",\n",
       " \"3 Database Admins walked into a NoSQL bar. A little while later they walked out because they couldn't find a table.\",\n",
       " 'How to explain the movie Inception to a programmer? When you run a VM inside another VM, inside another VM ... everything runs real slow!',\n",
       " 'What do you call a parrot that says \"Squawk! Pieces of nine! Pieces of nine!\"? A parrot-ey error.',\n",
       " 'There are only two hard problems in Computer Science: cache invalidation, naming things and off-by-one-errors.',\n",
       " \"There are 10 types of people: those who understand binary and those who don't.\",\n",
       " 'There are 2 types of people: those who can extrapolate from incomplete data sets...',\n",
       " \"There are II types of people: Those who understand Roman Numerals and those who don't.\",\n",
       " 'There are 10 types of people: those who understand hexadecimal and 15 others.',\n",
       " \"There are 10 types of people: those who understand binary, those who don't, and those who were expecting this joke to be in trinary.\",\n",
       " \"There are 10 types of people: those who understand trinary, those who don't, and those who have never heard of it.\",\n",
       " 'What do you call eight hobbits? A hobbyte.',\n",
       " 'The best thing about a Boolean is even if you are wrong, you are only off by a bit.',\n",
       " 'A good programmer is someone who always looks both ways before crossing a one-way street.',\n",
       " 'There are two ways to write error-free programs; only the third one works.',\n",
       " 'QAs consist of 55% water, 30% blood and 15% Jira tickets.',\n",
       " 'Sympathy for the Devil is really just about being nice to QAs.',\n",
       " \"How many QAs does it take to change a lightbulb? They noticed that the room was dark. They don't fix problems, they find them.\",\n",
       " 'A programmer crashes a car at the bottom of a hill, a bystander asks what happened, he says \"No idea. Let\\'s push it back up and try again\".',\n",
       " \"What do you mean 911 is only for emergencies? I've got a merge conflict.\",\n",
       " \"Writing PHP is like peeing in the swimming pool, everyone did it, but we don't need to bring it up in public.\",\n",
       " \"Why did the QA cross the road? To ruin everyone's day.\",\n",
       " 'Number of days since I have encountered an array index error: -1.',\n",
       " 'Number of days since I have encountered an off-by-one error: 0.',\n",
       " 'Speed dating is useless. 5 minutes is not enough to properly explain the benefits of the Unix philosophy.',\n",
       " 'Microsoft hold a bi-monthly internal \"productive week\" where they use Google instead of Bing.',\n",
       " \"Schrodinger's attitude to web development: If I don't look at it in Internet Explorer then there's a chance it looks fine.\",\n",
       " 'Finding a good PHP developer is like looking for a needle in a haystack. Or is it a hackstack in a needle?',\n",
       " \"Unix is user friendly. It's just very particular about who its friends are.\",\n",
       " 'A COBOL programmer makes millions with Y2K remediation and decides to get cryogenically frozen. \"The year is 9999. You know COBOL, right?\"',\n",
       " 'The C language combines all the power of assembly language with all the ease-of-use of assembly language.',\n",
       " 'An SEO expert walks into a bar, bars, pub, public house, Irish pub, tavern, bartender, beer, liquor, wine, alcohol, spirits...',\n",
       " \"What does 'Emacs' stand for? 'Exclusively used by middle aged computer scientists.'\",\n",
       " 'What does pyjokes have in common with Adobe Flash? It gets updated all the time, but never gets any better.',\n",
       " \"Why does Waldo only wear stripes? Because he doesn't want to be spotted.\",\n",
       " 'I went to a street where the houses were numbered 8k, 16k, 32k, 64k, 128k, 256k and 512k. It was a trip down Memory Lane.',\n",
       " \"!false, (It's funny because it's true)\",\n",
       " \"['hip', 'hip'] (hip hip array!)\"]"
      ]
     },
     "execution_count": 184,
     "metadata": {},
     "output_type": "execute_result"
    }
   ],
   "source": []
  },
  {
   "cell_type": "code",
   "execution_count": 59,
   "metadata": {},
   "outputs": [
    {
     "name": "stderr",
     "output_type": "stream",
     "text": [
      "[nltk_data] Downloading package averaged_perceptron_tagger to\n",
      "[nltk_data]     /home/pranshu/nltk_data...\n",
      "[nltk_data]   Unzipping taggers/averaged_perceptron_tagger.zip.\n"
     ]
    },
    {
     "name": "stdout",
     "output_type": "stream",
     "text": [
      "ElonMusk\n",
      "Elon Reeve Musk  ( EE-lon; born June 28, 1971) is a business magnate, industrial designer and engineer.  He is the founder, CEO, CTO and chief designer of SpaceX; early investor, CEO and product architect of Tesla, Inc.; founder of The Boring Company; co-founder of Neuralink; and co-founder and initial co-chairman of OpenAI. He was elected a Fellow of the Royal Society (FRS) in 2018. Also that year, he was ranked 25th on the Forbes list of The World's Most Powerful People, and was ranked joint-first on the Forbes list of the Most Innovative Leaders of 2019. A centi-billionaire, Musk became the richest person in the world, for a week, in January 2021.Musk was born to a Canadian mother and South African father and raised in Pretoria, South Africa. He briefly attended the University of Pretoria before moving to Canada when he was 17 to attend Queen's University. He transferred to the University of Pennsylvania two years later, where he received dual bachelor's degrees in economics and physics. He moved to California in 1995 to begin a Ph.D. in applied physics and material sciences at Stanford University, but dropped out after two days to pursue a business career. He co-founded Zip2, a web software company, which was acquired by Compaq for $307 million in 1999. Musk then founded X.com, an online bank. It merged with Confinity in 2000, which had launched PayPal the previous year and was subsequently bought by eBay for $1.5 billion in October 2002.\n",
      "In May 2002, Musk founded SpaceX, an aerospace manufacturer and space transport services company, of which he is CEO and lead designer. He joined Tesla Motors, Inc. (now Tesla, Inc.), an electric vehicle manufacturer, in 2004, the year after it was founded, becoming its product architect that year and its CEO in 2008. In 2006, he helped create SolarCity, a solar energy services company (now a subsidiary of Tesla). In 2015, he co-founded OpenAI, a nonprofit research company that aims to promote friendly artificial intelligence. In July 2016, he co-founded Neuralink, a neurotechnology company focused on developing brain–computer interfaces. In December 2016, Musk founded The Boring Company, an infrastructure and tunnel construction company focused on tunnels optimized for electric vehicles. In addition to his primary business pursuits, he envisioned an open-source high-speed transportation system known as the Hyperloop based on the concept of a vactrain.\n",
      "Musk has also been the subject of criticism due to unorthodox or unscientific stances and highly publicized controversies. Following the rejection of a prototype submarine from Tesla that Musk had offered to be used in the 2018 Tham Luang cave rescue, he insulted a diver who advised in the rescue and disparaged the prototype and in response the diver sued for defamation; a California jury ruled in favor of Musk. Also in 2018, he falsely tweeted that he had secured funding for a private takeover of Tesla at $420 a share. The U.S. Securities and Exchange Commission (SEC) sued him for the comment. He settled with the SEC, temporarily stepping down from his chairmanship and accepting limitations on his Twitter usage. Musk has received substantial criticism for his views on artificial intelligence, public transportation, and the COVID-19 pandemic.\n"
     ]
    }
   ],
   "source": [
    "\n",
    "\n",
    "sentence = \"tell me about Elon Musk\"\n",
    "tagged_sent = pos_tag(sentence.split())\n",
    "pn = [word for word,pos in tagged_sent if pos == 'NNP']\n",
    "final = \"\".join(pn)\n",
    "print(final)\n",
    "print(wikipedia.summary(final))"
   ]
  },
  {
   "cell_type": "code",
   "execution_count": null,
   "metadata": {},
   "outputs": [],
   "source": []
  }
 ],
 "metadata": {
  "kernelspec": {
   "display_name": "Python 3",
   "language": "python",
   "name": "python3"
  },
  "language_info": {
   "codemirror_mode": {
    "name": "ipython",
    "version": 3
   },
   "file_extension": ".py",
   "mimetype": "text/x-python",
   "name": "python",
   "nbconvert_exporter": "python",
   "pygments_lexer": "ipython3",
   "version": "3.8.5"
  }
 },
 "nbformat": 4,
 "nbformat_minor": 4
}
