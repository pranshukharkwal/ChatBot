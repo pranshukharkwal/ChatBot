{
 "cells": [
  {
   "cell_type": "code",
   "execution_count": 98,
   "metadata": {},
   "outputs": [],
   "source": [
    "import nltk\n",
    "from nltk.stem import WordNetLemmatizer\n",
    "lemmatizer = WordNetLemmatizer()\n",
    "import pickle\n",
    "import numpy as np\n",
    "\n",
    "from keras.models import load_model\n",
    "import json\n",
    "import random\n",
    "import tensorflow as tf   \n",
    "tf.get_logger().setLevel('ERROR')"
   ]
  },
  {
   "cell_type": "code",
   "execution_count": 99,
   "metadata": {},
   "outputs": [],
   "source": [
    "def clean_up_sentence(sentence):\n",
    "    sentence_words = nltk.word_tokenize(sentence)\n",
    "    sentence_words = [lemmatizer.lemmatize(word.lower()) for word in sentence_words]\n",
    "    return sentence_words"
   ]
  },
  {
   "cell_type": "code",
   "execution_count": 91,
   "metadata": {},
   "outputs": [],
   "source": [
    "def bow(sentence, words, show_details=True):\n",
    "    sentence_words = clean_up_sentence(sentence)\n",
    "    bag = [0]*len(words)\n",
    "    for s in sentence_words:\n",
    "        for i,w in enumerate(words):\n",
    "            if w == s:\n",
    "                bag[i] = 1\n",
    "                if show_details:\n",
    "                    print (\"found in bag: %s\" % w)\n",
    "    return(np.array(bag))"
   ]
  },
  {
   "cell_type": "code",
   "execution_count": 92,
   "metadata": {},
   "outputs": [],
   "source": [
    "def predict_class(sentence, model , words , classes):\n",
    "    p = bow(sentence, words,show_details=False)\n",
    "    res = model.predict(np.array([p]))[0]\n",
    "    ERROR_THRESHOLD = 0.00\n",
    "    results = [[i,r] for i,r in enumerate(res) if r>=ERROR_THRESHOLD]\n",
    "    results.sort(key=lambda x: x[1], reverse=True)\n",
    "    return_list = []\n",
    "    for r in results:\n",
    "        return_list.append({\"intent\": classes[r[0]], \"probability\": str(r[1])})\n",
    "    print(return_list)\n",
    "    return return_list"
   ]
  },
  {
   "cell_type": "code",
   "execution_count": 93,
   "metadata": {},
   "outputs": [],
   "source": [
    "def getResponse(ints, intents_json):\n",
    "    tag = ints[0]['intent']\n",
    "    list_of_intents = intents_json['intents']\n",
    "    for i in list_of_intents:\n",
    "        if(i['tag']== tag):\n",
    "            result = random.choice(i['responses'])\n",
    "            break\n",
    "    return result"
   ]
  },
  {
   "cell_type": "code",
   "execution_count": 94,
   "metadata": {},
   "outputs": [],
   "source": [
    "def chatbot_response(msg):\n",
    "    ints = predict_class(msg, model)\n",
    "    res = getResponse(ints, intents)\n",
    "    return res"
   ]
  },
  {
   "cell_type": "code",
   "execution_count": 95,
   "metadata": {},
   "outputs": [],
   "source": [
    "def call_model(sentence , qtype):\n",
    "    no = qtype\n",
    "    model = load_model('models/model' + no + '.h5')\n",
    "    words = pickle.load(open('type' + no + '/words.pkl','rb'))\n",
    "    classes = pickle.load(open('type' + no + '/classes.pkl','rb'))\n",
    "    found_intent = predict_class(sentence , model , words , classes)[0]['intent']\n",
    "    return print(\"Intent is \" , found_intent)"
   ]
  },
  {
   "cell_type": "code",
   "execution_count": 96,
   "metadata": {},
   "outputs": [],
   "source": [
    "def main(question):\n",
    "    print(\"Finding the type\")\n",
    "    model = load_model('models/model.h5')\n",
    "    words = pickle.load(open('main_model/words.pkl','rb'))\n",
    "    classes = pickle.load(open('main_model/classes.pkl','rb'))\n",
    "    qtype = predict_class(question , model , words , classes)[0]['intent']\n",
    "    print(\"\\nQuestion type is\" , qtype , end='\\n\\n')\n",
    "    if qtype == 'type1':\n",
    "        call_model(question , '1')\n",
    "    elif qtype == 'type2':\n",
    "        call_model(question , '2')\n",
    "    elif qtype == 'type3':\n",
    "        call_model(question , '3')"
   ]
  },
  {
   "cell_type": "code",
   "execution_count": 97,
   "metadata": {},
   "outputs": [
    {
     "name": "stdout",
     "output_type": "stream",
     "text": [
      "\n",
      "Finding the type\n",
      "\n",
      "\n",
      " [{'intent': 'type1', 'probability': '0.9999417'}, {'intent': 'type2', 'probability': '3.1881755e-05'}, {'intent': 'type3', 'probability': '2.648187e-05'}]\n",
      "\n",
      "\n",
      "Question type is type1\n",
      "\n",
      "\n",
      " [{'intent': 'greeting', 'probability': '0.99703'}, {'intent': 'info_iitmandi', 'probability': '0.0005976363'}, {'intent': 'contact_information', 'probability': '0.0005308608'}, {'intent': 'alumni', 'probability': '0.00041999473'}, {'intent': 'creation', 'probability': '0.0003155136'}, {'intent': 'placements', 'probability': '0.00026389695'}, {'intent': 'options', 'probability': '0.00024985807'}, {'intent': 'medical_facilities', 'probability': '0.00023290576'}, {'intent': 'thanks', 'probability': '0.00020407373'}, {'intent': 'goodbye', 'probability': '0.00015524711'}]\n",
      "\n",
      "\n",
      " Intent is  greeting\n"
     ]
    }
   ],
   "source": [
    "main(\"Hello everyone\")"
   ]
  },
  {
   "cell_type": "code",
   "execution_count": null,
   "metadata": {},
   "outputs": [],
   "source": []
  },
  {
   "cell_type": "code",
   "execution_count": null,
   "metadata": {},
   "outputs": [],
   "source": []
  },
  {
   "cell_type": "code",
   "execution_count": null,
   "metadata": {},
   "outputs": [],
   "source": []
  }
 ],
 "metadata": {
  "kernelspec": {
   "display_name": "Python 3",
   "language": "python",
   "name": "python3"
  },
  "language_info": {
   "codemirror_mode": {
    "name": "ipython",
    "version": 3
   },
   "file_extension": ".py",
   "mimetype": "text/x-python",
   "name": "python",
   "nbconvert_exporter": "python",
   "pygments_lexer": "ipython3",
   "version": "3.8.5"
  }
 },
 "nbformat": 4,
 "nbformat_minor": 4
}
