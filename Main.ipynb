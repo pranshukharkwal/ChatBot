{
 "cells": [
  {
   "cell_type": "code",
   "execution_count": 80,
   "metadata": {},
   "outputs": [],
   "source": [
    "import nltk\n",
    "from nltk.stem import WordNetLemmatizer\n",
    "lemmatizer = WordNetLemmatizer()\n",
    "import pickle\n",
    "import numpy as np\n",
    "import pyjokes\n",
    "from keras.models import load_model\n",
    "import json\n",
    "import random\n",
    "import tensorflow as tf   \n",
    "import pandas as pd\n",
    "tf.get_logger().setLevel('ERROR')\n",
    "import convert"
   ]
  },
  {
   "cell_type": "code",
   "execution_count": 99,
   "metadata": {},
   "outputs": [],
   "source": [
    "def fetch_wikipedia(sentence):\n",
    "    sentence = sentence.title()\n",
    "    tagged_sent = pos_tag(sentence.split())\n",
    "    pn = [word for word,pos in tagged_sent if pos == 'NNP']\n",
    "    final = \"\".join(pn)\n",
    "    return wikipedia.summary(final)"
   ]
  },
  {
   "cell_type": "code",
   "execution_count": 81,
   "metadata": {},
   "outputs": [],
   "source": [
    "def clean_up_sentence(sentence):\n",
    "    sentence_words = nltk.word_tokenize(sentence)\n",
    "    sentence_words = [lemmatizer.lemmatize(word.lower()) for word in sentence_words]\n",
    "    return sentence_words"
   ]
  },
  {
   "cell_type": "code",
   "execution_count": 82,
   "metadata": {},
   "outputs": [],
   "source": [
    "def bow(sentence, words, show_details=True):\n",
    "    sentence_words = clean_up_sentence(sentence)\n",
    "    bag = [0]*len(words)\n",
    "    for s in sentence_words:\n",
    "        for i,w in enumerate(words):\n",
    "            if w == s:\n",
    "                bag[i] = 1\n",
    "                if show_details:\n",
    "                    print (\"found in bag: %s\" % w)\n",
    "    return(np.array(bag))"
   ]
  },
  {
   "cell_type": "code",
   "execution_count": 83,
   "metadata": {},
   "outputs": [],
   "source": [
    "def predict_class(sentence, model , words , classes):\n",
    "    p = bow(sentence, words,show_details=False)\n",
    "    res = model.predict(np.array([p]))[0]\n",
    "    ERROR_THRESHOLD = 0.1\n",
    "    results = [[i,r] for i,r in enumerate(res) if r>=ERROR_THRESHOLD]\n",
    "    results.sort(key=lambda x: x[1], reverse=True)\n",
    "    return_list = []\n",
    "    for r in results:\n",
    "        return_list.append({\"intent\": classes[r[0]], \"probability\": str(r[1])})\n",
    "    return return_list"
   ]
  },
  {
   "cell_type": "code",
   "execution_count": 84,
   "metadata": {},
   "outputs": [],
   "source": [
    "def getResponse(intent , qtype):\n",
    "    lisp = []\n",
    "    if qtype == 'type1':\n",
    "        data_file = open('database/intents1.json').read()\n",
    "        lisp = json.loads(data_file)[\"type1\"]\n",
    "    elif qtype == 'type2':\n",
    "        data_file = open('database/intents2.json').read()\n",
    "        lisp = json.loads(data_file)[\"type2\"]\n",
    "    elif qtype == 'type3':\n",
    "        data_file = open('database/intents3.json').read()\n",
    "        lisp = json.loads(data_file)[\"type3\"]\n",
    "        \n",
    "    for i in lisp:\n",
    "        if(i['tag']== intent):\n",
    "            result = random.choice(i['responses'])\n",
    "            break\n",
    "    return result"
   ]
  },
  {
   "cell_type": "code",
   "execution_count": 85,
   "metadata": {},
   "outputs": [],
   "source": [
    "def call_model(sentence , qtype):\n",
    "    no = qtype\n",
    "    model = load_model('models/model' + no + '.h5')\n",
    "    words = pickle.load(open('type' + no + '/words.pkl','rb'))\n",
    "    classes = pickle.load(open('type' + no + '/classes.pkl','rb'))\n",
    "    found_intent = predict_class(sentence , model , words , classes)[0]['intent']\n",
    "#     print(\"Intent is \" , found_intent)\n",
    "    return found_intent"
   ]
  },
  {
   "cell_type": "code",
   "execution_count": 86,
   "metadata": {},
   "outputs": [],
   "source": [
    "def main(question):\n",
    "#     print(\"Finding the type\")\n",
    "    model = load_model('models/model.h5')\n",
    "    words = pickle.load(open('main_model/words.pkl','rb'))\n",
    "    classes = pickle.load(open('main_model/classes.pkl','rb'))\n",
    "    qtype = predict_class(question , model , words , classes)[0]['intent']\n",
    "#     print(\"\\nQuestion type is\" , qtype , end='\\n\\n')\n",
    "    if qtype == 'type1':\n",
    "        it = call_model(question , '1')\n",
    "    elif qtype == 'type2':\n",
    "        it = call_model(question , '2')\n",
    "    elif qtype == 'type3':\n",
    "        it = call_model(question , '3')\n",
    "    return (qtype, it)"
   ]
  },
  {
   "cell_type": "code",
   "execution_count": 89,
   "metadata": {},
   "outputs": [],
   "source": [
    "def solve(lisp):\n",
    "    data = {}\n",
    "    data['question'] = lisp\n",
    "    data['intent'] = []\n",
    "    data['types'] = []\n",
    "    for question in lisp:\n",
    "        print(question)\n",
    "        a = main(question)\n",
    "        data['intent'].append(a[1])\n",
    "        data['types'].append(a[0])\n",
    "        if a[1] == 'suggest_movie':\n",
    "            print('Response : Here is a movie suggestion' , convert.give_suggestion('movies'))\n",
    "        elif a[1] == 'suggest_song':\n",
    "            print('Response : Here is a song suggestion' , convert.give_suggestion('songs'))\n",
    "        elif a[1] == 'suggest_book':\n",
    "            print('Response : Here is a book suggestion' , convert.give_suggestion('books'))\n",
    "        elif a[1] == 'tell_joke':\n",
    "            print(\"Response : Here is a joke\" , pyjokes.get_joke('en'))\n",
    "        elif a[1] == 'get_info':\n",
    "            print(\"Response :\" , fetch_wikipedia(question))\n",
    "        else:\n",
    "            typeq = a[0]\n",
    "            intentq = a[1]\n",
    "            print(\"Response :\" , getResponse(intentq , typeq))\n",
    "        print()\n",
    "    data = pd.DataFrame(data)\n",
    "    print(data)"
   ]
  },
  {
   "cell_type": "code",
   "execution_count": 98,
   "metadata": {},
   "outputs": [
    {
     "name": "stdout",
     "output_type": "stream",
     "text": [
      "tell me about elon musk\n",
      "MeElonMusk\n",
      "Response : Elon Reeve Musk  ( EE-lon; born June 28, 1971) is a business magnate, industrial designer and engineer.  He is the founder, CEO, CTO and chief designer of SpaceX; early investor, CEO and product architect of Tesla, Inc.; founder of The Boring Company; co-founder of Neuralink; and co-founder and initial co-chairman of OpenAI. He was elected a Fellow of the Royal Society (FRS) in 2018. Also that year, he was ranked 25th on the Forbes list of The World's Most Powerful People, and was ranked joint-first on the Forbes list of the Most Innovative Leaders of 2019. A centi-billionaire, Musk became the richest person in the world, for a week, in January 2021.Musk was born to a Canadian mother and South African father and raised in Pretoria, South Africa. He briefly attended the University of Pretoria before moving to Canada when he was 17 to attend Queen's University. He transferred to the University of Pennsylvania two years later, where he received dual bachelor's degrees in economics and physics. He moved to California in 1995 to begin a Ph.D. in applied physics and material sciences at Stanford University, but dropped out after two days to pursue a business career. He co-founded Zip2, a web software company, which was acquired by Compaq for $307 million in 1999. Musk then founded X.com, an online bank. It merged with Confinity in 2000, which had launched PayPal the previous year and was subsequently bought by eBay for $1.5 billion in October 2002.\n",
      "In May 2002, Musk founded SpaceX, an aerospace manufacturer and space transport services company, of which he is CEO and lead designer. He joined Tesla Motors, Inc. (now Tesla, Inc.), an electric vehicle manufacturer, in 2004, the year after it was founded, becoming its product architect that year and its CEO in 2008. In 2006, he helped create SolarCity, a solar energy services company (now a subsidiary of Tesla). In 2015, he co-founded OpenAI, a nonprofit research company that aims to promote friendly artificial intelligence. In July 2016, he co-founded Neuralink, a neurotechnology company focused on developing brain–computer interfaces. In December 2016, Musk founded The Boring Company, an infrastructure and tunnel construction company focused on tunnels optimized for electric vehicles. In addition to his primary business pursuits, he envisioned an open-source high-speed transportation system known as the Hyperloop based on the concept of a vactrain.\n",
      "Musk has also been the subject of criticism due to unorthodox or unscientific stances and highly publicized controversies. Following the rejection of a prototype submarine from Tesla that Musk had offered to be used in the 2018 Tham Luang cave rescue, he insulted a diver who advised in the rescue and disparaged the prototype and in response the diver sued for defamation; a California jury ruled in favor of Musk. Also in 2018, he falsely tweeted that he had secured funding for a private takeover of Tesla at $420 a share. The U.S. Securities and Exchange Commission (SEC) sued him for the comment. He settled with the SEC, temporarily stepping down from his chairmanship and accepting limitations on his Twitter usage. Musk has received substantial criticism for his views on artificial intelligence, public transportation, and the COVID-19 pandemic.\n",
      "\n",
      "suggest me a movie\n",
      "Response : Here is a movie suggestion {'rating': '5.3', 'storyline': \"Mary Fiore is the wedding planner. She's ambitious, hard-working, extremely organized, and she knows exactly what to do and say to make any wedding a spectacular event. Bt when Mary falls (literally) for a handsome doctor her busy yet uncomplicated life is turned upside down - he's the groom in the biggest wedding of her career! Will she help him walk down the aisle with his internet tycoon girlfriend, or will Mary finally get to be the bride herself? When it comes to love, you can never plan what's going to happen.\", 'ratingCount': '74,900', 'length': '1h 43min', 'release': '26 January 2001 (USA)', 'thumbnail': 'https://m.media-amazon.com/images/M/MV5BNzBlYTE4NDAtN2RkNi00YWZmLWI3MWQtZDg2YTQ5OTI4YTVhL2ltYWdlXkEyXkFqcGdeQXVyMTQxNzMzNDI@._V1_UX182_CR0,0,182,268_AL__QL50.jpg', 'name': 'Wedding Planner, The (2001)'}\n",
      "\n",
      "tell me a joke\n",
      "Response : Here is a joke Waiter: He's choking! Is anyone a doctor? Programmer: I'm a Vim user.\n",
      "\n",
      "hello how are you\n",
      "Response : Hello\n",
      "\n",
      "                  question         intent  types\n",
      "0  tell me about elon musk       get_info  type1\n",
      "1       suggest me a movie  suggest_movie  type1\n",
      "2           tell me a joke      tell_joke  type1\n",
      "3        hello how are you       greeting  type1\n"
     ]
    }
   ],
   "source": [
    "# lisp = [\"campus of iit mandi\", \"joining programming club \",\"how are you\",\"why is competetive programming hard\", \"who are you\", \"who created you\"]\n",
    "lisp = [\"tell me about elon musk\" , \"suggest me a movie\" , \"tell me a joke\" , \"hello how are you\"]\n",
    "solve(lisp)"
   ]
  },
  {
   "cell_type": "code",
   "execution_count": null,
   "metadata": {},
   "outputs": [],
   "source": []
  }
 ],
 "metadata": {
  "kernelspec": {
   "display_name": "Python 3",
   "language": "python",
   "name": "python3"
  },
  "language_info": {
   "codemirror_mode": {
    "name": "ipython",
    "version": 3
   },
   "file_extension": ".py",
   "mimetype": "text/x-python",
   "name": "python",
   "nbconvert_exporter": "python",
   "pygments_lexer": "ipython3",
   "version": "3.8.5"
  }
 },
 "nbformat": 4,
 "nbformat_minor": 4
}
